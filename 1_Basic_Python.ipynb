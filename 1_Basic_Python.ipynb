{
  "nbformat": 4,
  "nbformat_minor": 0,
  "metadata": {
    "colab": {
      "name": "1-Basic_Python.ipynb",
      "version": "0.3.2",
      "provenance": [],
      "include_colab_link": true
    },
    "kernelspec": {
      "name": "python3",
      "display_name": "Python 3"
    }
  },
  "cells": [
    {
      "cell_type": "markdown",
      "metadata": {
        "id": "view-in-github",
        "colab_type": "text"
      },
      "source": [
        "[View in Colaboratory](https://colab.research.google.com/github/HackyRoot/A-Frame-Examples/blob/master/1_Basic_Python.ipynb)"
      ]
    },
    {
      "metadata": {
        "id": "9_9q-FYwdupe",
        "colab_type": "text"
      },
      "cell_type": "markdown",
      "source": [
        "# Python"
      ]
    },
    {
      "metadata": {
        "id": "-kIhz1CqeBh_",
        "colab_type": "text"
      },
      "cell_type": "markdown",
      "source": [
        "## Print and Comments"
      ]
    },
    {
      "metadata": {
        "id": "ekW2bNIOdGFy",
        "colab_type": "code",
        "colab": {
          "base_uri": "https://localhost:8080/",
          "height": 52
        },
        "outputId": "d4270460-59c2-4eb7-bf2c-b761e65a34a0"
      },
      "cell_type": "code",
      "source": [
        "'''\n",
        "Let's get started with Python\n",
        "'''\n",
        "print('Hello world') # this prints hello world\n",
        "print(\"This is Pratik\") # yes, you can use single or double quotes"
      ],
      "execution_count": 24,
      "outputs": [
        {
          "output_type": "stream",
          "text": [
            "Hello world\n",
            "This is Pratik\n"
          ],
          "name": "stdout"
        }
      ]
    },
    {
      "metadata": {
        "id": "1mHN2uAGjmlz",
        "colab_type": "code",
        "colab": {
          "base_uri": "https://localhost:8080/",
          "height": 34
        },
        "outputId": "292c970a-fe00-4355-b36a-078c532a66a8"
      },
      "cell_type": "code",
      "source": [
        "import math\n",
        "print('Value of PI is %.2f' %math.pi) # prints the value of PI to the 2 decimal points"
      ],
      "execution_count": 28,
      "outputs": [
        {
          "output_type": "stream",
          "text": [
            "Value of PI is 3.14\n"
          ],
          "name": "stdout"
        }
      ]
    },
    {
      "metadata": {
        "id": "xisbvEGOhZVd",
        "colab_type": "text"
      },
      "cell_type": "markdown",
      "source": [
        "## Variable"
      ]
    },
    {
      "metadata": {
        "id": "vQjNC93OhFa0",
        "colab_type": "code",
        "colab": {}
      },
      "cell_type": "code",
      "source": [
        "i = 1 # just pass the value and you're good to go, don't worry about datatype\n",
        "f = 3.14"
      ],
      "execution_count": 0,
      "outputs": []
    },
    {
      "metadata": {
        "id": "D78tTkcheIh0",
        "colab_type": "text"
      },
      "cell_type": "markdown",
      "source": [
        "## Python Indentation\n",
        "\n",
        "*   Most of the programming languages like C, C++, Java use braces { } to define a block of code. Python uses indentation.\n",
        "\n",
        "*   A code block (body of a function, loop etc.) starts with indentation and ends with the first unindented line. The amount of indentation is up to you, but it must be consistent throughout that block.\n",
        "* Generally four whitespaces are used for indentation and is preferred over tabs.\n",
        "\n"
      ]
    },
    {
      "metadata": {
        "id": "vNdZnK0jffv1",
        "colab_type": "text"
      },
      "cell_type": "markdown",
      "source": [
        "## if.. else..."
      ]
    },
    {
      "metadata": {
        "id": "Gj2nPJ1afeeG",
        "colab_type": "code",
        "colab": {
          "base_uri": "https://localhost:8080/",
          "height": 34
        },
        "outputId": "528fbaeb-d3ca-4662-cd47-3814a0bd6439"
      },
      "cell_type": "code",
      "source": [
        "search_engine = 'Google'\n",
        "\n",
        "if search_engine == 'Google':\n",
        "  print('Google is amazing')\n",
        "\n",
        "else:\n",
        "  print(\"How on earth you're still using Bing\")"
      ],
      "execution_count": 17,
      "outputs": [
        {
          "output_type": "stream",
          "text": [
            "Google is amazing\n"
          ],
          "name": "stdout"
        }
      ]
    },
    {
      "metadata": {
        "id": "bIpAB7oah3Rr",
        "colab_type": "code",
        "colab": {
          "base_uri": "https://localhost:8080/",
          "height": 34
        },
        "outputId": "fe9f3598-4bb7-41fa-f656-76b9a9af304e"
      },
      "cell_type": "code",
      "source": [
        "se = 'Bing'\n",
        "print('Google is amazing') if se == 'Google' else print(\"How on earth you're still using Bing\") # Conditional Expressions "
      ],
      "execution_count": 18,
      "outputs": [
        {
          "output_type": "stream",
          "text": [
            "How on earth you're still using Bing\n"
          ],
          "name": "stdout"
        }
      ]
    },
    {
      "metadata": {
        "id": "kBMRY7Naejib",
        "colab_type": "text"
      },
      "cell_type": "markdown",
      "source": [
        "## for loop"
      ]
    },
    {
      "metadata": {
        "id": "8-YydD4od7qT",
        "colab_type": "code",
        "colab": {
          "base_uri": "https://localhost:8080/",
          "height": 104
        },
        "outputId": "77bfe109-c987-4880-cb9a-31b24da0938e"
      },
      "cell_type": "code",
      "source": [
        "for i in range(5): # yes, index start with 0 and doesn't include entered value in range\n",
        "  print(''i)"
      ],
      "execution_count": 8,
      "outputs": [
        {
          "output_type": "stream",
          "text": [
            "0\n",
            "1\n",
            "2\n",
            "3\n",
            "4\n"
          ],
          "name": "stdout"
        }
      ]
    },
    {
      "metadata": {
        "id": "QD6wZDg5es79",
        "colab_type": "code",
        "colab": {
          "base_uri": "https://localhost:8080/",
          "height": 52
        },
        "outputId": "ecdfccd3-65b2-49c9-d1ad-140b666e698a"
      },
      "cell_type": "code",
      "source": [
        "mat = [[1,2]  # kinda 2x2 matrix, but it's list actually\n",
        "      ,[3,4]]\n",
        "\n",
        "for a,b in mat:\n",
        "  print(a,b)\n"
      ],
      "execution_count": 23,
      "outputs": [
        {
          "output_type": "stream",
          "text": [
            "1 2\n",
            "3 4\n"
          ],
          "name": "stdout"
        }
      ]
    },
    {
      "metadata": {
        "id": "fs8NBXWFe0RJ",
        "colab_type": "code",
        "colab": {}
      },
      "cell_type": "code",
      "source": [
        ""
      ],
      "execution_count": 0,
      "outputs": []
    }
  ]
}